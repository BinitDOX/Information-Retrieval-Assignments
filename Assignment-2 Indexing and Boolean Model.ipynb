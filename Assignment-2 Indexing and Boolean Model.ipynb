{
 "cells": [
  {
   "cell_type": "markdown",
   "id": "32acbecf",
   "metadata": {},
   "source": [
    "# Information Retrieval (CSE - 363) #"
   ]
  },
  {
   "cell_type": "markdown",
   "id": "a451637a",
   "metadata": {},
   "source": [
    "# Assignment #2: Indexing and Boolean Model #"
   ]
  },
  {
   "cell_type": "code",
   "execution_count": null,
   "id": "fe383309",
   "metadata": {},
   "outputs": [],
   "source": []
  }
 ],
 "metadata": {
  "kernelspec": {
   "display_name": "Python 3",
   "language": "python",
   "name": "python3"
  },
  "language_info": {
   "codemirror_mode": {
    "name": "ipython",
    "version": 3
   },
   "file_extension": ".py",
   "mimetype": "text/x-python",
   "name": "python",
   "nbconvert_exporter": "python",
   "pygments_lexer": "ipython3",
   "version": "3.8.5"
  }
 },
 "nbformat": 4,
 "nbformat_minor": 5
}
