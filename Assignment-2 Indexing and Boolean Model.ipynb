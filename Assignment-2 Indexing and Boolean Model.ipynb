{
 "cells": [
  {
   "cell_type": "markdown",
   "id": "35cfb7ee",
   "metadata": {},
   "source": [
    "<center> <h1> Information Retrieval (CSE - 363) </h1> </center>"
   ]
  },
  {
   "cell_type": "markdown",
   "id": "5e064f4c",
   "metadata": {},
   "source": [
    "<center> <h1> Assignment #2: Indexing and Boolean Model </h1> </center>"
   ]
  },
  {
   "cell_type": "markdown",
   "id": "04621c75",
   "metadata": {},
   "source": [
    "## IMPORTS ##"
   ]
  },
  {
   "cell_type": "code",
   "execution_count": null,
   "id": "82c4b7f3",
   "metadata": {},
   "outputs": [],
   "source": []
  },
  {
   "cell_type": "markdown",
   "id": "7f6450c3",
   "metadata": {},
   "source": [
    "## DATA LOADING ##"
   ]
  },
  {
   "cell_type": "code",
   "execution_count": null,
   "id": "3fc6e0b8",
   "metadata": {},
   "outputs": [],
   "source": []
  },
  {
   "cell_type": "markdown",
   "id": "3c49805f",
   "metadata": {},
   "source": [
    "## DATA CLEANING ##"
   ]
  },
  {
   "cell_type": "code",
   "execution_count": null,
   "id": "2e6571c0",
   "metadata": {},
   "outputs": [],
   "source": []
  },
  {
   "cell_type": "markdown",
   "id": "5ea6458d",
   "metadata": {},
   "source": [
    "## TF IDF ##"
   ]
  },
  {
   "cell_type": "code",
   "execution_count": null,
   "id": "250ae1b4",
   "metadata": {},
   "outputs": [],
   "source": []
  },
  {
   "cell_type": "markdown",
   "id": "806d7595",
   "metadata": {},
   "source": [
    "## BOOLEAN RETRIEVAL ##"
   ]
  },
  {
   "cell_type": "code",
   "execution_count": null,
   "id": "38a6a4f0",
   "metadata": {},
   "outputs": [],
   "source": []
  }
 ],
 "metadata": {
  "kernelspec": {
   "display_name": "Python 3",
   "language": "python",
   "name": "python3"
  },
  "language_info": {
   "codemirror_mode": {
    "name": "ipython",
    "version": 3
   },
   "file_extension": ".py",
   "mimetype": "text/x-python",
   "name": "python",
   "nbconvert_exporter": "python",
   "pygments_lexer": "ipython3",
   "version": "3.8.5"
  }
 },
 "nbformat": 4,
 "nbformat_minor": 5
}
