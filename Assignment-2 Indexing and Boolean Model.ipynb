{
 "cells": [
  {
   "cell_type": "markdown",
   "id": "35cfb7ee",
   "metadata": {},
   "source": [
    "<center> <h1> Information Retrieval (CSE - 363) </h1> </center>"
   ]
  },
  {
   "cell_type": "markdown",
   "id": "5e064f4c",
   "metadata": {},
   "source": [
    "<center> <h1> Assignment #2: Indexing and Boolean Model </h1> </center>"
   ]
  },
  {
   "cell_type": "markdown",
   "id": "04621c75",
   "metadata": {},
   "source": [
    "## IMPORTS ##"
   ]
  },
  {
   "cell_type": "code",
   "execution_count": 38,
   "id": "82c4b7f3",
   "metadata": {},
   "outputs": [],
   "source": [
    "import os\n",
    "import re\n",
    "import nltk\n",
    "from collections import Counter\n",
    "from nltk.corpus import stopwords\n",
    "from nltk.stem import WordNetLemmatizer, PorterStemmer\n",
    "from nltk.tokenize import sent_tokenize , word_tokenize"
   ]
  },
  {
   "cell_type": "markdown",
   "id": "7f6450c3",
   "metadata": {},
   "source": [
    "## DATA LOADING ##"
   ]
  },
  {
   "cell_type": "markdown",
   "id": "e45aadec",
   "metadata": {},
   "source": [
    "### ENGLISH"
   ]
  },
  {
   "cell_type": "code",
   "execution_count": 13,
   "id": "3fc6e0b8",
   "metadata": {},
   "outputs": [],
   "source": [
    "english_dataset_dir = 'Datasets/English-Dataset'\n",
    "\n",
    "english_directories = [os.path.join(english_dataset_dir, d) for d in os.listdir(english_dataset_dir)]\n",
    "english_files = [os.path.join(d, f) for d in english_directories for f in os.listdir(d)]"
   ]
  },
  {
   "cell_type": "code",
   "execution_count": 3,
   "id": "9cf18468",
   "metadata": {},
   "outputs": [],
   "source": [
    "english_corpus = []\n",
    "\n",
    "for file in english_files:\n",
    "    with open(file) as f:\n",
    "        data = f.read().replace('\\n', ' ')\n",
    "        english_corpus.append(data)\n",
    "        \n",
    "english_corpus = ' '.join(english_corpus)"
   ]
  },
  {
   "cell_type": "code",
   "execution_count": 9,
   "id": "ea168a56",
   "metadata": {},
   "outputs": [
    {
     "name": "stdout",
     "output_type": "stream",
     "text": [
      "Example:\n",
      " <DOC> <DOCNO>en.13.1.100.2009.5.31</DOCNO> <TITLE> Four-times champion Nadal shown the exit </TITLE> <TEXT>  PARIS, May 31 (bdnews24.com/Reuters) - Four-times champion Rafael Nadal was knocked out in the fourth round of the French Open, beaten 6-2 6-7 6-4 7-6 by Sweden's Robin Soderling on Sunday. T\n"
     ]
    }
   ],
   "source": [
    "print('Example:\\n',english_corpus[:300])"
   ]
  },
  {
   "cell_type": "markdown",
   "id": "c99046fe",
   "metadata": {},
   "source": [
    "### HINDI"
   ]
  },
  {
   "cell_type": "code",
   "execution_count": null,
   "id": "d50123bb",
   "metadata": {},
   "outputs": [],
   "source": [
    "hindi_dataset_dir = 'Datasets/Hindi-Dataset'\n",
    "\n",
    "hindi_files = [os.path.join(hindi_dataset_dir, f) for f in os.listdir(hindi_dataset_dir)]"
   ]
  },
  {
   "cell_type": "code",
   "execution_count": 16,
   "id": "f24e7432",
   "metadata": {},
   "outputs": [],
   "source": [
    "hindi_corpus = []\n",
    "\n",
    "for file in hindi_files:\n",
    "    with open(file, encoding=\"utf8\") as f:\n",
    "        data = f.read().replace('\\n', ' ')\n",
    "        hindi_corpus.append(data)\n",
    "        \n",
    "hindi_corpus = ' '.join(hindi_corpus)"
   ]
  },
  {
   "cell_type": "code",
   "execution_count": 17,
   "id": "6fe45d35",
   "metadata": {},
   "outputs": [
    {
     "name": "stdout",
     "output_type": "stream",
     "text": [
      "Example:\n",
      " <DOC> <DOCNO>fullnews_id_2477211_date_26_5_2004.utf8</DOCNO> <TEXT>   गांधी, नेहरू और जिन्ना पर जमकर बरसे सुदशन    मुखर्जी की हत्या के लिए शेख अब्दुल्ला जिम्मेदार अमर उजाला संवाददाता  उधमपुर।        देश की धार्कि, सामाजिक और राजनीतिक समस्याओं के लिए आरएसएस के सरसंघचालक केसी सुदशन ने रविवार को स्थानी\n"
     ]
    }
   ],
   "source": [
    "print('Example:\\n', hindi_corpus[:300])"
   ]
  },
  {
   "cell_type": "markdown",
   "id": "3c49805f",
   "metadata": {},
   "source": [
    "## DATA CLEANING ##"
   ]
  },
  {
   "cell_type": "markdown",
   "id": "ce88d977",
   "metadata": {},
   "source": [
    "### ENGLISH"
   ]
  },
  {
   "cell_type": "code",
   "execution_count": 35,
   "id": "2e6571c0",
   "metadata": {},
   "outputs": [
    {
     "name": "stdout",
     "output_type": "stream",
     "text": [
      "ukhia upazilas go polls monday dhaka may com suspended upazila elections ukhia cox bazar held monday four months chairmen voted across country local government councils\n"
     ]
    }
   ],
   "source": [
    "stop_words = set(stopwords.words('english'))\n",
    "stop_words.add('en')\n",
    "\n",
    "tempstr = \"\"\"\n",
    "<DOC> <DOCNO>en.13.1.3.2009.6.1</DOCNO>\n",
    "<TITLE> Ukhia, other Upazilas go to polls Monday </TITLE>\n",
    "<TEXT>\n",
    " Dhaka, May 31 (bdnews24.com)The suspended upazila elections in Ukhia in Cox's Bazar will be held on Monday,\n",
    " four months after chairmen were voted in across the country to the local government councils.\n",
    "</TEXT>\n",
    "</DOC>\n",
    "\"\"\"\n",
    "words = re.findall(r'(\\b[A-Za-z][a-z]{1,12}\\b)', tempstr)\n",
    "words = [w.lower() for w in words if not w.lower() in stop_words]\n",
    "words = ' '.join(words)\n",
    "\n",
    "print(words)"
   ]
  },
  {
   "cell_type": "code",
   "execution_count": 36,
   "id": "3829f2ea",
   "metadata": {},
   "outputs": [
    {
     "name": "stdout",
     "output_type": "stream",
     "text": [
      "four times champion nadal shown exit may com reuters four times champion rafael nadal knocked fourth\n"
     ]
    }
   ],
   "source": [
    "# Clean Corpus\n",
    "\n",
    "words = re.findall(r'(\\b[A-Za-z][a-z]{1,12}\\b)', english_corpus)\n",
    "words = [w.lower() for w in words if not w.lower() in stop_words]\n",
    "words = ' '.join(words)\n",
    "\n",
    "print(words[:100])"
   ]
  },
  {
   "cell_type": "markdown",
   "id": "ee750dac",
   "metadata": {},
   "source": [
    "### HINDI"
   ]
  },
  {
   "cell_type": "code",
   "execution_count": 33,
   "id": "4676dc7c",
   "metadata": {},
   "outputs": [
    {
     "name": "stdout",
     "output_type": "stream",
     "text": [
      "गांधी, नेहरू और जिन्ना पर जमकर बरसे सुदशन मुखर्जी की हत्या के लिए शेख अब्दुल्ला जिम्मेदार अमर उजाला संवाददाता उधमपुर। देश की धार्कि, सामाजिक और राजनीतिक समस्याओं के लिए आरएसएस के सरसंघचालक केसी सुदशन ने रविवार को स्थानी\n"
     ]
    }
   ],
   "source": [
    "stop_words_file = 'Stopwords/Hindi/stopwords.txt'\n",
    "stop_words = set()\n",
    "\n",
    "with open(stop_words_file, encoding=\"utf8\") as f:\n",
    "    data = f.read().replace('\\n', ' ')\n",
    "    data = data.split(' ')\n",
    "    stop_words.update(data)\n",
    "    \n",
    "test_string = \"\"\"\n",
    "<DOC> <DOCNO>fullnews_id_2477211_date_26_5_2004.utf8</DOCNO> <TEXT>   गांधी, नेहरू और जिन्ना पर जमकर बरसे सुदशन    मुखर्जी की हत्या के लिए शेख अब्दुल्ला जिम्मेदार अमर उजाला संवाददाता  उधमपुर।        देश\n",
    "की धार्कि, सामाजिक और राजनीतिक समस्याओं के लिए आरएसएस के सरसंघचालक केसी सुदशन ने रविवार को स्थानी\n",
    "\"\"\"\n",
    "\n",
    "words = re.sub(r'[a-zA-Z0-9_.]', '', tempstr)  # Remove english and numbers\n",
    "words = re.sub(r'\\<[^>]*\\>', '', words)  # Remove words inside angular braces\n",
    "words = ' '.join(words.split())  # Remove multiple spaces or tabs\n",
    "\n",
    "print(words) # Test"
   ]
  },
  {
   "cell_type": "code",
   "execution_count": null,
   "id": "d305fe73",
   "metadata": {},
   "outputs": [],
   "source": [
    "# Clean Corpus\n",
    "\n",
    "hindi_corpus"
   ]
  },
  {
   "cell_type": "markdown",
   "id": "5ea6458d",
   "metadata": {},
   "source": [
    "## TF IDF ##"
   ]
  },
  {
   "cell_type": "code",
   "execution_count": null,
   "id": "250ae1b4",
   "metadata": {},
   "outputs": [],
   "source": []
  },
  {
   "cell_type": "markdown",
   "id": "806d7595",
   "metadata": {},
   "source": [
    "## BOOLEAN RETRIEVAL ##"
   ]
  },
  {
   "cell_type": "code",
   "execution_count": 41,
   "id": "2b202569",
   "metadata": {},
   "outputs": [
    {
     "data": {
      "text/plain": [
       "Counter({'I': 1, 'am': 1, 'going': 2, 'to': 1, 'the': 1, 'shop': 3})"
      ]
     },
     "execution_count": 41,
     "metadata": {},
     "output_type": "execute_result"
    }
   ],
   "source": [
    "tokenized_string = 'I am going to the shop shop shop going'\n",
    "global_word_dict = Counter(tokenized_string.split())\n",
    "global_word_dict"
   ]
  },
  {
   "cell_type": "code",
   "execution_count": null,
   "id": "0a28f7f5",
   "metadata": {},
   "outputs": [],
   "source": [
    "class Node:\n",
    "    def __init__(self, docID, freq=None):\n",
    "        self.docID = docID\n",
    "        self.freq = freq\n",
    "        self.next = None\n",
    "    \n",
    "class LinkedList:\n",
    "    def __init__(self, head = None):\n",
    "        self.head = head"
   ]
  },
  {
   "cell_type": "code",
   "execution_count": null,
   "id": "38a6a4f0",
   "metadata": {},
   "outputs": [],
   "source": [
    "linked_list = {}\n",
    "\n",
    "for word in global_word_dict.keys():  # Iterate over unique words\n",
    "    linked_list[word] = LinkedList()  # Make LL for each word\n",
    "    linked_list[word].head = Node(1,Node)\n",
    "word_freq_in_doc = {}\n",
    "idx = 1"
   ]
  }
 ],
 "metadata": {
  "kernelspec": {
   "display_name": "Python 3",
   "language": "python",
   "name": "python3"
  },
  "language_info": {
   "codemirror_mode": {
    "name": "ipython",
    "version": 3
   },
   "file_extension": ".py",
   "mimetype": "text/x-python",
   "name": "python",
   "nbconvert_exporter": "python",
   "pygments_lexer": "ipython3",
   "version": "3.8.5"
  }
 },
 "nbformat": 4,
 "nbformat_minor": 5
}
