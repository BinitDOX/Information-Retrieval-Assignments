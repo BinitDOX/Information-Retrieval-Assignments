{
 "cells": [
  {
   "cell_type": "markdown",
   "id": "35cfb7ee",
   "metadata": {},
   "source": [
    "<center> <h1> Information Retrieval (CSE - 363) </h1> </center>"
   ]
  },
  {
   "cell_type": "markdown",
   "id": "5e064f4c",
   "metadata": {},
   "source": [
    "<center> <h1> Assignment #2: Indexing and Boolean Model </h1> </center>"
   ]
  },
  {
   "cell_type": "markdown",
   "id": "04621c75",
   "metadata": {},
   "source": [
    "## IMPORTS ##"
   ]
  },
  {
   "cell_type": "code",
   "execution_count": null,
   "id": "82c4b7f3",
   "metadata": {},
   "outputs": [],
   "source": []
  },
  {
   "cell_type": "markdown",
   "id": "7f6450c3",
   "metadata": {},
   "source": [
    "## DATA LOADING ##"
   ]
  },
  {
   "cell_type": "code",
   "execution_count": null,
   "id": "3fc6e0b8",
   "metadata": {},
   "outputs": [],
   "source": []
  },
  {
   "cell_type": "markdown",
   "id": "3c49805f",
   "metadata": {},
   "source": [
    "## DATA CLEANING ##"
   ]
  },
  {
   "cell_type": "code",
   "execution_count": 15,
   "id": "2e6571c0",
   "metadata": {},
   "outputs": [
    {
     "name": "stdout",
     "output_type": "stream",
     "text": [
      "['ukhia', 'upazilas', 'go', 'polls', 'monday', 'dhaka', 'may', 'com', 'suspended', 'upazila', 'elections', 'ukhia', 'cox', 'bazar', 'held', 'monday', 'four', 'months', 'chairmen', 'voted', 'across', 'country', 'local', 'government', 'councils', 'polls', 'pending', 'votes', 'centres', 'polling', 'suspended', 'disputed', 'run', 'mohammad', 'abdul', 'baten', 'senior', 'assistant', 'secretary', 'election', 'commission', 'told', 'com', 'polls', 'one', 'centre', 'upazila', 'sunamganj', 'held', 'monday', 'court', 'directive', 'three', 'candidates', 'nine', 'vice', 'three', 'women', 'vice', 'contest', 'polls', 'upazila', 'accounts', 'voters', 'suspended', 'polls', 'two', 'centres', 'atpara', 'upazila', 'netrokona', 'one', 'pakundia', 'upazila', 'three', 'centres', 'muradnagar', 'upazila', 'vice', 'held', 'day', 'suspended', 'polls', 'also', 'held', 'four', 'centres', 'chandina', 'upazila', 'women', 'vice', 'comilla', 'centres', 'upazila', 'upazila', 'posts', 'feni', 'polls', 'suspended', 'ukhia', 'dighinala', 'upazila', 'jan', 'later', 'jan', 'polls', 'barura', 'comilla', 'sadar', 'ramganj', 'laxmipur', 'belkuchi', 'upazila', 'sirajganj', 'due', 'various', 'bdn']\n"
     ]
    }
   ],
   "source": [
    "import re\n",
    "import nltk\n",
    "from nltk.corpus import stopwords\n",
    "\n",
    "\n",
    "stop_words = set(stopwords.words('english'))\n",
    "stop_words.add('en')\n",
    "stop_words.add('doc')\n",
    "stop_words.add('docno')\n",
    "stop_words.add('title')\n",
    "stop_words.add('text')\n",
    "\n",
    "tempstr = \"\"\"<DOC>\n",
    "<DOCNO>en.13.1.3.2009.6.1</DOCNO>\n",
    "<TITLE> Ukhia, other Upazilas go to polls Monday </TITLE>\n",
    "<TEXT>\n",
    " Dhaka, May 31 (bdnews24.com)The suspended upazila elections in Ukhia in Cox's Bazar will be held on Monday, four months after chairmen were voted in across the country to the local government councils. The polls, and pending re-votes in some other centres where polling was suspended or disputed, will run through to 4pm from 8am, Mohammad Abdul Baten, senior assistant secretary at the Election Commission secretariat, told bdnews24.com. The polls to one centre under Jagannathpur Upazila in Sunamganj will not be held on Monday as there is a court directive. Three candidates for chairmanship, nine for vice chairmanship and three for women vice chairmanship will contest in the polls. The Upazila accounts for 95,899 voters. 6. The suspended polls to two centres under Atpara Upazila in Netrokona, one at Pakundia Upazila in Kishoreganj for chairmanship, three centres at Muradnagar Upazila for vice chairmanship will be held on the day. The suspended polls will also be held to four centres at Chandina Upazila for women vice chairmanship in Comilla and 10 centres at Chhagalnaiya Upazila for all Upazila posts in Feni. The polls were suspended at Ukhia and Dighinala Upazila before Jan 22, and later on Jan 22 the polls to Barura in Comilla, Brahmanbaria Sadar, Ramganj in Laxmipur and Belkuchi Upazila in Sirajganj due to various irregularities. bdn\n",
    "</TEXT>\n",
    "</DOC>\n",
    "\"\"\"\n",
    "words = re.findall(r'(\\b[A-Za-z][a-z]{1,9}\\b)', tempstr)\n",
    "\n",
    "words = [w.lower() for w in words if not w.lower() in stop_words]\n",
    "\n",
    "print(words)"
   ]
  },
  {
   "cell_type": "markdown",
   "id": "5ea6458d",
   "metadata": {},
   "source": [
    "## TF IDF ##"
   ]
  },
  {
   "cell_type": "code",
   "execution_count": null,
   "id": "250ae1b4",
   "metadata": {},
   "outputs": [],
   "source": []
  },
  {
   "cell_type": "markdown",
   "id": "806d7595",
   "metadata": {},
   "source": [
    "## BOOLEAN RETRIEVAL ##"
   ]
  },
  {
   "cell_type": "code",
   "execution_count": null,
   "id": "38a6a4f0",
   "metadata": {},
   "outputs": [],
   "source": []
  }
 ],
 "metadata": {
  "kernelspec": {
   "display_name": "Python 3",
   "language": "python",
   "name": "python3"
  },
  "language_info": {
   "codemirror_mode": {
    "name": "ipython",
    "version": 3
   },
   "file_extension": ".py",
   "mimetype": "text/x-python",
   "name": "python",
   "nbconvert_exporter": "python",
   "pygments_lexer": "ipython3",
   "version": "3.8.8"
  }
 },
 "nbformat": 4,
 "nbformat_minor": 5
}
